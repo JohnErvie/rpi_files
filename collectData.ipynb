{
 "cells": [
  {
   "cell_type": "code",
   "execution_count": null,
   "metadata": {},
   "outputs": [],
   "source": [
    "import sys\n",
    "import os\n",
    "import serial\n",
    "from datetime import *\n",
    "import time \n",
    "import pymysql"
   ]
  },
  {
   "cell_type": "code",
   "execution_count": null,
   "metadata": {},
   "outputs": [],
   "source": [
    "#database connection\n",
    "connection = pymysql.connect(host=\"localhost\", user=\"admin\", passwd=\"password\", database=\"pd_database\")\n",
    "connection.autocommit = True\n",
    "cursor = connection.cursor()"
   ]
  },
  {
   "cell_type": "code",
   "execution_count": null,
   "metadata": {},
   "outputs": [],
   "source": [
    "# for collecting data\n",
    "port = \"ttyUSB0\"\n",
    "ser = serial.Serial('/dev/' + port, 115200, timeout=1)\n",
    "ser.reset_input_buffer()\n",
    "\n",
    "while True:\n",
    "    dateToday = datetime.now()\n",
    "    dateNow = date.today()\n",
    "    TimeNow = (datetime.time(datetime.now()))\n",
    "\n",
    "    if ser.in_wating > 0:\n",
    "        line = ser.readline().decode('utf-8').rstrip()\n",
    "        split = line.split(\",\")\n",
    "        split.insert(0,port)\n",
    "        split.remove('')\n",
    "        \n",
    "        port1 = split[0]\n",
    "        power1 = float(split[6])\n",
    "\n",
    "        insertData = \"INSERT INTO data(port,datetime, voltage, current, power, energy, frequency, pf) VALUES('{}','{}', {},{},{},{},{},{})\".format(split[0], \\\n",
    "            dateToday, float(split[2]), float(split[4]), power1, float(split[8]), float(split[10]), float(split[12]))\n",
    "        cursor.execute(insertData)\n",
    "        connection.commit()"
   ]
  }
 ],
 "metadata": {
  "language_info": {
   "name": "python"
  },
  "orig_nbformat": 4
 },
 "nbformat": 4,
 "nbformat_minor": 2
}
